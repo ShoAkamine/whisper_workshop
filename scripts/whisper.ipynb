{
 "cells": [
  {
   "cell_type": "markdown",
   "metadata": {},
   "source": [
    "# Automatic speech transcription using Whisper\n",
    "In this module, we use [Whisper](https://github.com/openai/whisper) from OpenAI to transcribe speech automatically. Whisper is a robust automatic speech recognition (ASR) model that supports about 100 different languages (e.g., English, Italian, Dutch, Japanese, Chinese, Spanish, etc).\n",
    "\n",
    "Whisper provides 5 multilingual model sizes as follows:\n",
    "\n",
    "|  Size  | Parameters | English-only model | Multilingual model | Required VRAM | Relative speed |\n",
    "|:------:|:----------:|:------------------:|:------------------:|:-------------:|:--------------:|\n",
    "|  tiny  |    39 M    |     `tiny.en`      |       `tiny`       |     ~1 GB     |      ~32x      |\n",
    "|  base  |    74 M    |     `base.en`      |       `base`       |     ~1 GB     |      ~16x      |\n",
    "| small  |   244 M    |     `small.en`     |      `small`       |     ~2 GB     |      ~6x       |\n",
    "| medium |   769 M    |    `medium.en`     |      `medium`      |     ~5 GB     |      ~2x       |\n",
    "| large  |   1550 M   |        N/A         | `large/large-v2/large-v3` |    ~10 GB     |       1x       |\n",
    "\n",
    "As you can see, the smaller the model is, the faster computational time is, with less accurate results.\n"
   ]
  },
  {
   "cell_type": "markdown",
   "metadata": {},
   "source": [
    "### Issues in timestamps accuracy\n",
    "The original whisper models do not correctly capture silences. Rather, they just include sliences in timestamps. <br>\n",
    "For example, if an utterance was produced from 00:00:11.000 to 00:00:15.000 followed by a 2-second silence, the timestamp will be 00:00:11.000 - 00:00:17.000 instead. <br>\n",
    "\n",
    "Also, the original whisper model doesn't provide word-level timestamps.\n",
    "\n",
    "To solve this, we will use **[whisperx](https://github.com/m-bain/whisperX)**, which first transcribes speech using faster-whisper model and use a forced-alignment algorithm for improved timing accuracy and word-level timestamps.\n",
    "\n",
    "\n",
    "***"
   ]
  },
  {
   "cell_type": "markdown",
   "metadata": {},
   "source": [
    "## Overview of the script\n",
    "\n",
    "The script performs following processes in the listed order:\n",
    "\n",
    "1. Import packages and define path for the input and output folders\n",
    "1. Load a whisper model\n",
    "1. Go through each audio/video (wav/mp4) files in the \"input\" folder and run whisper on each file\n",
    "    1. Transcribe audio/video file using faster-whisper\n",
    "    1. Get accurate timestamps using a forced alignment algorithm\n",
    "    1. Move on to the next file\n",
    "1. Call the \"export_transcript_as_tsv()\" function to export the whisper output as a tab-delimited text file"
   ]
  },
  {
   "cell_type": "markdown",
   "metadata": {},
   "source": [
    "### Import packages and define paths\n",
    "\n",
    "### Import packages and define path for input and output folders\n",
    "Let's first import required packages.\n",
    "\n",
    "\n",
    "<details><summary><font color = \"mandarin\">If you haven't installed the packages, click here and follow the steps below</font></summary>\n",
    "\n",
    "1. Open terminal/anaconda prompt at the folder in which you store this notebook\n",
    "    - Mac:\n",
    "        1. go to the \"imprs_whisper_workshop\" folder\n",
    "        1. right-click the \"imprs_whisper_workshop\" folder\n",
    "        1. click \"open terminal at this folder\" <br><br>\n",
    "    - Windows:\n",
    "        1. go to the \"imprs_whisper_workshop\" folder\n",
    "        1. copy the path to the folder\n",
    "        1. open Anaconda Prompt\n",
    "        1. type cd and paste the path after a space (e.g., cd D:/users/shoakamine/imprs_whisper_workshop)\n",
    "        1. if the folder is not in the C drive, type the drive initial followed by a colon (e.g., D:):\n",
    "\n",
    "1. Create Python3.10 environment\n",
    "    ```\n",
    "    conda create --name whisperx python=3.10\n",
    "    ```\n",
    "1. Activate your conda environment\n",
    "    ```\n",
    "    conda activate whisperx\n",
    "    ```\n",
    "\n",
    "1. Install PyTorch following the instructions [here](https://pytorch.org/get-started/previous-versions/#v200)\n",
    "\n",
    "1. Run this command to install required packages: `pip install -r requirements.txt`\n",
    "\n",
    "1. Click \"select kernel\" on the top right of VS code and select \"whisperx\"\n"
   ]
  },
  {
   "cell_type": "code",
   "execution_count": 4,
   "metadata": {},
   "outputs": [],
   "source": [
    "import whisperx\n",
    "import pandas as pd\n",
    "import os\n",
    "import torch\n",
    "\n",
    "# import custom-made functions\n",
    "from tsv_export import export_transcript_as_tsv, export_transcript_as_tsv_textonly\n",
    "from textgrid_export import export_transcript_as_textgrid\n",
    "\n",
    "\n",
    "input_folder = \"../input/\"\n",
    "output_folder = \"../output/\""
   ]
  },
  {
   "cell_type": "markdown",
   "metadata": {},
   "source": [
    "### Run the model and export the output as tsv"
   ]
  },
  {
   "cell_type": "code",
   "execution_count": null,
   "metadata": {},
   "outputs": [],
   "source": [
    "### Load the whisper model\n",
    "# set the device, batch size, and compute type\n",
    "device = 'cuda' if torch.cuda.is_available() else 'cpu' # setting device on GPU if available, else CPU\n",
    "batch_size = 16 if device == \"cuda\" else 4 # reduce to 4 if low on GPU memory\n",
    "compute_type = \"float16\" if device == \"cuda\" else \"default\"\n",
    "model_size = \"base\" # change to \"large-v3\" for better performance (note that it is significantly slower)\n",
    "print(f\"* Using device: {device} \\n* Batch size: {batch_size} \\n* Model size: {model_size} \\n* Compute type: {compute_type}\")\n",
    "\n",
    "# load model from whisper\n",
    "model = whisperx.load_model(model_size, device, compute_type=compute_type)\n",
    "\n",
    "\n",
    "### Transcribe all audio/video files in the input folder\n",
    "# iterate over files in the videos folder & apply whisper model on each videos\n",
    "for filename in os.listdir(input_folder):\n",
    "    path = os.path.join(input_folder, filename)\n",
    "\n",
    "    # check if it is a wav file\n",
    "    if filename.endswith(\".wav\") or filename.endswith(\".mp4\"):\n",
    "        # check if the output file already exists\n",
    "        output_filename = filename.split(\".\")[0] + \".txt\"\n",
    "        if os.path.exists(os.path.join(output_folder, \"tsv\", output_filename)):\n",
    "            print(f\"{output_filename} already exists in the output folder\")\n",
    "        else:\n",
    "            #apply whisper model on each file\n",
    "            print(\"\\n>>>>>> Now, whisper is working on \" + filename)\n",
    "\n",
    "            # 1. Transcribe with original whisper (batched)\n",
    "            audio = whisperx.load_audio(path)\n",
    "            result = model.transcribe(audio, batch_size=batch_size)\n",
    "            print(\">>>>>> Transcription complete. Now aligning the text with the audio...\")\n",
    "\n",
    "            # 2. Align whisper output\n",
    "            model_a, metadata = whisperx.load_align_model(language_code=result[\"language\"], device=device)\n",
    "            result = whisperx.align(result[\"segments\"], model_a, metadata, audio, device, return_char_alignments=True)\n",
    "            print(\">>>>>> Alignment complete. Exporting the results...\")\n",
    "\n",
    "            #export the results as tsv\n",
    "            export_transcript_as_tsv(result, output_filename, output_folder)\n",
    "            export_transcript_as_textgrid(result, output_filename, output_folder)\n",
    "            # export_transcript_as_tsv_textonly(result, output_filename, output_folder)\n",
    "            print(f\">>>>>> Exported {output_filename} to the output folder!\")\n"
   ]
  },
  {
   "cell_type": "code",
   "execution_count": null,
   "metadata": {},
   "outputs": [],
   "source": [
    "result"
   ]
  },
  {
   "attachments": {
    "image-2.png": {
     "image/png": "[encoded data removed]"
    }
   },
   "cell_type": "markdown",
   "metadata": {},
   "source": [
    "### <font color=\"orange\">Exercise 1: Import transcript to ELAN and/or Praat</font>\n",
    "#### ELAN\n",
    "Let's import the transcript to ELAN. [Here](https://www.mpi.nl/corpus/html/elan/ch04s03s01.html#Sec_Importing_CSV_Tab-delimited_Text_Files)'s official documentation of ELAN for importing csv files.\n",
    "\n",
    "1. Open ELAN\n",
    "1. Click File -> New\n",
    "1. Navigate to the *input* folder, click the mp4 file, click the \">>\" button, and click OK\n",
    "1. Click File -> Import -> CSV/Tab-delimited Text file...\n",
    "1. Navigate to the *output/tsv* folder, click the transcript file, and click OK\n",
    "1. Click OK\n",
    "1. In the \"Import options\", choose the following options, and click OK:\n",
    "    - Specify delimiter: Tab\n",
    "    - Specify first row of data: 2 (this means that first row contains the column names and the \"real\" data starts from the second row)\n",
    "    - [Under \"Select columns and specify their data type\"]\n",
    "        - start: Begin Time\n",
    "        - end: End Time\n",
    "        - text: Annotation\n",
    "    \n",
    "    ![image-2.png](attachment:image-2.png)\n",
    "\n",
    "#### Praat\n",
    "Open the textgrid file in the output/textgrid folder.\n"
   ]
  },
  {
   "cell_type": "markdown",
   "metadata": {},
   "source": [
    "### <font color=\"orange\">Exercise 2: Change the model size</font>\n",
    "Change the model_size in the code above to \"large-v3\" and run the Whisper model again. After running the model, answer the following questions:\n",
    "\n",
    "- Is the transcript more accurate compared to the based model?\n",
    "- Did the duration of each segment change? Which one is more accurate?\n",
    "- How long did it take for the large-v3 model to process a 37 seconds video?\n",
    "- Did audience's voice affect the transcription accuracy?\n",
    "\n",
    "*Make sure to add \"_base\" to the filename in the output folder. This is because whisper model won't run if there's a csv file with the same filename as the input wav file."
   ]
  }
 ],
 "metadata": {
  "kernelspec": {
   "display_name": "Python 3 (ipykernel)",
   "language": "python",
   "name": "python3"
  },
  "language_info": {
   "codemirror_mode": {
    "name": "ipython",
    "version": 3
   },
   "file_extension": ".py",
   "mimetype": "text/x-python",
   "name": "python",
   "nbconvert_exporter": "python",
   "pygments_lexer": "ipython3",
   "version": "3.12.2"
  }
 },
 "nbformat": 4,
 "nbformat_minor": 2
}
